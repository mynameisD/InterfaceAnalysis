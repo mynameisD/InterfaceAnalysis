{
 "cells": [
  {
   "cell_type": "markdown",
   "metadata": {},
   "source": [
    "## Python scripts to handle interfacial shear simulation results"
   ]
  },
  {
   "cell_type": "code",
   "execution_count": 58,
   "metadata": {
    "collapsed": false
   },
   "outputs": [
    {
     "name": "stdout",
     "output_type": "stream",
     "text": [
      "Populating the interactive namespace from numpy and matplotlib\n"
     ]
    },
    {
     "name": "stderr",
     "output_type": "stream",
     "text": [
      "WARNING: pylab import has clobbered these variables: ['hist', 'histogram']\n",
      "`%matplotlib` prevents importing * from pylab and numpy\n"
     ]
    },
    {
     "data": {
      "text/plain": [
       "'\\nimport sys\\nsys.path.append(\"/Users/dixu/Desktop/interfacial_analysis\")\\nfrom interface import *\\n'"
      ]
     },
     "execution_count": 58,
     "metadata": {},
     "output_type": "execute_result"
    }
   ],
   "source": [
    "import numpy as np\n",
    "import pandas as pd\n",
    "import matplotlib.pyplot as plt\n",
    "import matplotlib\n",
    "matplotlib.style.use('ggplot')\n",
    "%pylab inline\n",
    "pylab.rcParams['figure.figsize'] = (10, 6)\n",
    "'''\n",
    "import sys\n",
    "sys.path.append(\"/Users/dixu/Desktop/interfacial_analysis\")\n",
    "from interface import *\n",
    "'''"
   ]
  },
  {
   "cell_type": "code",
   "execution_count": 59,
   "metadata": {
    "collapsed": true
   },
   "outputs": [],
   "source": [
    "#Global Constants\n",
    "AREA = (20.5-0.5)*(20.341234-0.288675)"
   ]
  },
  {
   "cell_type": "code",
   "execution_count": 60,
   "metadata": {
    "collapsed": true
   },
   "outputs": [],
   "source": [
    "#readin histogram data\n",
    "#assume only 1 dump \n",
    "def histo(file):\n",
    "    f = open(file)\n",
    "    heading=None\n",
    "    x,y=[],[]\n",
    "    for line in f:\n",
    "        if line.startswith(\"#\"):\n",
    "            continue\n",
    "        wd=line.split()\n",
    "        if not heading: #heading not defined\n",
    "            heading=wd\n",
    "        else:\n",
    "            x.append(wd[1])\n",
    "            y.append(wd[2])\n",
    "    f.close()\n",
    "    x = map(float,x)\n",
    "    y = map(float,y)\n",
    "    f.close()\n",
    "    return x,y,heading[2]"
   ]
  },
  {
   "cell_type": "code",
   "execution_count": 61,
   "metadata": {
    "collapsed": true
   },
   "outputs": [],
   "source": [
    "#file path setting\n",
    "folder=\"/Users/dixu/Desktop/Interfacial_Slip/TOP_BOTTOM/SimulationDesign1/Sheet/12/e09/\""
   ]
  },
  {
   "cell_type": "code",
   "execution_count": 62,
   "metadata": {
    "collapsed": false
   },
   "outputs": [],
   "source": [
    "histoA=folder+\"polyA.histo\"\n",
    "histoB=folder+\"polyB.histo\"\n",
    "histoF=folder+\"filler.histo\"\n",
    "Ax,Ay,Acount=histo(histoA)\n",
    "Bx,By,Bcount=histo(histoB)\n",
    "Fx,Fy,Fcount=histo(histoF)"
   ]
  },
  {
   "cell_type": "code",
   "execution_count": 63,
   "metadata": {
    "collapsed": false
   },
   "outputs": [
    {
     "data": {
      "text/html": [
       "<div>\n",
       "<table border=\"1\" class=\"dataframe\">\n",
       "  <thead>\n",
       "    <tr style=\"text-align: right;\">\n",
       "      <th></th>\n",
       "      <th>A</th>\n",
       "      <th>B</th>\n",
       "      <th>F</th>\n",
       "    </tr>\n",
       "  </thead>\n",
       "  <tbody>\n",
       "    <tr>\n",
       "      <th>0.25</th>\n",
       "      <td>1</td>\n",
       "      <td>0</td>\n",
       "      <td>0</td>\n",
       "    </tr>\n",
       "    <tr>\n",
       "      <th>0.75</th>\n",
       "      <td>1</td>\n",
       "      <td>0</td>\n",
       "      <td>0</td>\n",
       "    </tr>\n",
       "    <tr>\n",
       "      <th>1.25</th>\n",
       "      <td>1</td>\n",
       "      <td>0</td>\n",
       "      <td>0</td>\n",
       "    </tr>\n",
       "    <tr>\n",
       "      <th>1.75</th>\n",
       "      <td>1</td>\n",
       "      <td>0</td>\n",
       "      <td>0</td>\n",
       "    </tr>\n",
       "    <tr>\n",
       "      <th>2.25</th>\n",
       "      <td>1</td>\n",
       "      <td>0</td>\n",
       "      <td>0</td>\n",
       "    </tr>\n",
       "  </tbody>\n",
       "</table>\n",
       "</div>"
      ],
      "text/plain": [
       "      A  B  F\n",
       "0.25  1  0  0\n",
       "0.75  1  0  0\n",
       "1.25  1  0  0\n",
       "1.75  1  0  0\n",
       "2.25  1  0  0"
      ]
     },
     "execution_count": 63,
     "metadata": {},
     "output_type": "execute_result"
    }
   ],
   "source": [
    "all(Ax==Bx) and all(Bx==Fx) #x check\n",
    "hist=pd.DataFrame(np.array([Ay,By,Fy]).transpose(),index=np.array(Ax),columns=[\"PolyA\",\"PolyB\",\"Filler\"])\n",
    "hist=hist[hist.any(axis=1)>0]\n",
    "hist=hist.assign(A= hist.PolyA/(hist.PolyA+hist.PolyB+hist.Filler))\n",
    "hist=hist.assign(B= hist.PolyB/(hist.PolyA+hist.PolyB+hist.Filler))\n",
    "hist=hist.assign(F= hist.Filler/(hist.PolyA+hist.PolyB+hist.Filler))\n",
    "histogram=hist.loc[:,\"A\":\"F\"]\n",
    "histogram.head(5)"
   ]
  },
  {
   "cell_type": "code",
   "execution_count": 64,
   "metadata": {
    "collapsed": false,
    "scrolled": false
   },
   "outputs": [
    {
     "data": {
      "text/plain": [
       "<matplotlib.legend.Legend at 0x1151bd810>"
      ]
     },
     "execution_count": 64,
     "metadata": {},
     "output_type": "execute_result"
    },
    {
     "data": {
      "text/plain": [
       "<matplotlib.figure.Figure at 0x11890b510>"
      ]
     },
     "metadata": {},
     "output_type": "display_data"
    },
    {
     "data": {
      "image/png": "[encoded data removed]",
      "text/plain": [
       "<matplotlib.figure.Figure at 0x1151bdad0>"
      ]
     },
     "metadata": {},
     "output_type": "display_data"
    }
   ],
   "source": [
    "plt.figure(); \n",
    "histogram.plot(style=\"o-\").set_ylim(-0.1,1.1); \n",
    "plt.legend(loc='best')"
   ]
  },
  {
   "cell_type": "code",
   "execution_count": 65,
   "metadata": {
    "collapsed": false
   },
   "outputs": [],
   "source": [
    "def player(file):\n",
    "#layered pressure file handler\n",
    "    '''\n",
    "    readin layered pressure data \n",
    "    '''\n",
    "    f = open(file)\n",
    "    heading=None\n",
    "    res=[]\n",
    "    count=0;\n",
    "    for line in f:\n",
    "        if line.startswith(\"#\"):\n",
    "            continue\n",
    "        wd=line.split()\n",
    "        if not heading: #heading not defined\n",
    "            heading=map(int,wd)\n",
    "        else:\n",
    "            count+=1\n",
    "            res.append([str(heading[0])]+wd)\n",
    "            if count%heading[1]==0:\n",
    "                count=0\n",
    "                heading=None\n",
    "    f.close()\n",
    "    return res"
   ]
  },
  {
   "cell_type": "code",
   "execution_count": 66,
   "metadata": {
    "collapsed": false
   },
   "outputs": [
    {
     "name": "stderr",
     "output_type": "stream",
     "text": [
      "/Users/dixu/anaconda/lib/python2.7/site-packages/ipykernel/__main__.py:3: FutureWarning: convert_objects is deprecated.  Use the data-type specific converters pd.to_datetime, pd.to_timedelta and pd.to_numeric.\n",
      "  app.launch_new_instance()\n"
     ]
    },
    {
     "data": {
      "text/html": [
       "<div>\n",
       "<table border=\"1\" class=\"dataframe\">\n",
       "  <thead>\n",
       "    <tr style=\"text-align: right;\">\n",
       "      <th></th>\n",
       "      <th>Step</th>\n",
       "      <th>Layer</th>\n",
       "      <th>Cord</th>\n",
       "      <th>N</th>\n",
       "      <th>Px</th>\n",
       "      <th>Py</th>\n",
       "      <th>Pz</th>\n",
       "    </tr>\n",
       "  </thead>\n",
       "  <tbody>\n",
       "    <tr>\n",
       "      <th>0</th>\n",
       "      <td>15000000</td>\n",
       "      <td>1</td>\n",
       "      <td>0.179337</td>\n",
       "      <td>1357.600</td>\n",
       "      <td>-1.310000</td>\n",
       "      <td>-0.214115</td>\n",
       "      <td>-0.024030</td>\n",
       "    </tr>\n",
       "    <tr>\n",
       "      <th>1</th>\n",
       "      <td>15000000</td>\n",
       "      <td>2</td>\n",
       "      <td>2.179340</td>\n",
       "      <td>646.097</td>\n",
       "      <td>-0.159240</td>\n",
       "      <td>-0.039380</td>\n",
       "      <td>0.440822</td>\n",
       "    </tr>\n",
       "    <tr>\n",
       "      <th>2</th>\n",
       "      <td>15000000</td>\n",
       "      <td>3</td>\n",
       "      <td>4.179340</td>\n",
       "      <td>699.481</td>\n",
       "      <td>-0.000098</td>\n",
       "      <td>0.006614</td>\n",
       "      <td>-0.012409</td>\n",
       "    </tr>\n",
       "    <tr>\n",
       "      <th>3</th>\n",
       "      <td>15000000</td>\n",
       "      <td>4</td>\n",
       "      <td>6.179340</td>\n",
       "      <td>711.967</td>\n",
       "      <td>0.011717</td>\n",
       "      <td>0.013960</td>\n",
       "      <td>0.005457</td>\n",
       "    </tr>\n",
       "    <tr>\n",
       "      <th>4</th>\n",
       "      <td>15000000</td>\n",
       "      <td>5</td>\n",
       "      <td>8.179340</td>\n",
       "      <td>711.545</td>\n",
       "      <td>0.013566</td>\n",
       "      <td>0.026931</td>\n",
       "      <td>0.021693</td>\n",
       "    </tr>\n",
       "  </tbody>\n",
       "</table>\n",
       "</div>"
      ],
      "text/plain": [
       "       Step  Layer      Cord         N        Px        Py        Pz\n",
       "0  15000000      1  0.179337  1357.600 -1.310000 -0.214115 -0.024030\n",
       "1  15000000      2  2.179340   646.097 -0.159240 -0.039380  0.440822\n",
       "2  15000000      3  4.179340   699.481 -0.000098  0.006614 -0.012409\n",
       "3  15000000      4  6.179340   711.967  0.011717  0.013960  0.005457\n",
       "4  15000000      5  8.179340   711.545  0.013566  0.026931  0.021693"
      ]
     },
     "execution_count": 66,
     "metadata": {},
     "output_type": "execute_result"
    }
   ],
   "source": [
    "pf2=folder+\"Player2.txt\"\n",
    "press=pd.DataFrame(player(pf2),columns=[\"Step\",\"Layer\",\"Cord\",\"N\",\"Px\",\"Py\",\"Pz\"])\n",
    "press=press.convert_objects(convert_numeric=True)\n",
    "binsize=press.iloc[1,2]-press.iloc[0,2]\n",
    "press.head(5)"
   ]
  },
  {
   "cell_type": "code",
   "execution_count": 67,
   "metadata": {
    "collapsed": false
   },
   "outputs": [
    {
     "data": {
      "text/plain": [
       "(-0.5, 1.0)"
      ]
     },
     "execution_count": 67,
     "metadata": {},
     "output_type": "execute_result"
    },
    {
     "data": {
      "image/png": "[encoded data removed]",
      "text/plain": [
       "<matplotlib.figure.Figure at 0x118f44ed0>"
      ]
     },
     "metadata": {},
     "output_type": "display_data"
    }
   ],
   "source": [
    "press[\"LambdaK\"]=-press.N/AREA*(press.Pz-0.5*(press.Px+press.Py))  #2 is the bin size\n",
    "pressure=press[press.Step==15000000].loc[:,[\"Cord\",\"LambdaK\"]]\n",
    "\n",
    "pressure.plot(x=\"Cord\",style=\"o-\").set_ylim(-0.5,1.0)"
   ]
  },
  {
   "cell_type": "code",
   "execution_count": 68,
   "metadata": {
    "collapsed": false
   },
   "outputs": [
    {
     "name": "stdout",
     "output_type": "stream",
     "text": [
      "Unit-less interfacial tension approximate: 0.385058620938\n"
     ]
    }
   ],
   "source": [
    "tension=pressure[(pressure[\"Cord\"]>10) & (pressure[\"Cord\"]<26)]\n",
    "print \"Unit-less interfacial tension approximate: \"+str(tension.sum()[1])"
   ]
  },
  {
   "cell_type": "code",
   "execution_count": null,
   "metadata": {
    "collapsed": true
   },
   "outputs": [],
   "source": []
  }
 ],
 "metadata": {
  "kernelspec": {
   "display_name": "Python 2",
   "language": "python",
   "name": "python2"
  },
  "language_info": {
   "codemirror_mode": {
    "name": "ipython",
    "version": 2
   },
   "file_extension": ".py",
   "mimetype": "text/x-python",
   "name": "python",
   "nbconvert_exporter": "python",
   "pygments_lexer": "ipython2",
   "version": "2.7.11"
  }
 },
 "nbformat": 4,
 "nbformat_minor": 0
}
