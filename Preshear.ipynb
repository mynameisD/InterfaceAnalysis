{
 "cells": [
  {
   "cell_type": "markdown",
   "metadata": {},
   "source": [
    "## Python scripts to handle interfacial shear simulation results"
   ]
  },
  {
   "cell_type": "code",
   "execution_count": 85,
   "metadata": {
    "collapsed": false
   },
   "outputs": [
    {
     "name": "stdout",
     "output_type": "stream",
     "text": [
      "Populating the interactive namespace from numpy and matplotlib\n"
     ]
    },
    {
     "name": "stderr",
     "output_type": "stream",
     "text": [
      "WARNING: pylab import has clobbered these variables: ['hist']\n",
      "`%matplotlib` prevents importing * from pylab and numpy\n"
     ]
    },
    {
     "data": {
      "text/plain": [
       "'\\nimport sys\\nsys.path.append(\"/Users/dixu/Desktop/interfacial_analysis\")\\nfrom interface import *\\n'"
      ]
     },
     "execution_count": 85,
     "metadata": {},
     "output_type": "execute_result"
    }
   ],
   "source": [
    "import numpy as np\n",
    "import pandas as pd\n",
    "import matplotlib.pyplot as plt\n",
    "import matplotlib\n",
    "plt.style.use('classic')\n",
    "%pylab inline\n",
    "pylab.rcParams['figure.figsize'] = (10, 6)\n",
    "'''\n",
    "import sys\n",
    "sys.path.append(\"/Users/dixu/Desktop/interfacial_analysis\")\n",
    "from interface import *\n",
    "'''"
   ]
  },
  {
   "cell_type": "code",
   "execution_count": 86,
   "metadata": {
    "collapsed": true
   },
   "outputs": [],
   "source": [
    "#Global Constants\n",
    "AREA = (20.5-0.5)*(20.341234-0.288675)"
   ]
  },
  {
   "cell_type": "code",
   "execution_count": 87,
   "metadata": {
    "collapsed": true
   },
   "outputs": [],
   "source": [
    "#readin histogram data\n",
    "#assume only 1 dump \n",
    "def histo(file):\n",
    "    f = open(file)\n",
    "    heading=None\n",
    "    x,y=[],[]\n",
    "    for line in f:\n",
    "        if line.startswith(\"#\"):\n",
    "            continue\n",
    "        wd=line.split()\n",
    "        if not heading: #heading not defined\n",
    "            heading=wd\n",
    "        else:\n",
    "            x.append(wd[1])\n",
    "            y.append(wd[2])\n",
    "    f.close()\n",
    "    x = map(float,x)\n",
    "    y = map(float,y)\n",
    "    f.close()\n",
    "    return x,y,heading[2]"
   ]
  },
  {
   "cell_type": "code",
   "execution_count": 88,
   "metadata": {
    "collapsed": true
   },
   "outputs": [],
   "source": [
    "#file path setting\n",
    "folder=\"/Users/dixu/Desktop/Interfacial_Slip/TOP_BOTTOM/SimulationDesign1/Spherical/s05/100/e05/\""
   ]
  },
  {
   "cell_type": "code",
   "execution_count": 89,
   "metadata": {
    "collapsed": false
   },
   "outputs": [],
   "source": [
    "histoA=folder+\"polyA.histo\"\n",
    "histoB=folder+\"polyB.histo\"\n",
    "histoF=folder+\"filler.histo\"\n",
    "Ax,Ay,Acount=histo(histoA)\n",
    "Bx,By,Bcount=histo(histoB)\n",
    "Fx,Fy,Fcount=histo(histoF)"
   ]
  },
  {
   "cell_type": "code",
   "execution_count": 90,
   "metadata": {
    "collapsed": false
   },
   "outputs": [
    {
     "data": {
      "text/plain": [
       "1.5793577968219268"
      ]
     },
     "execution_count": 90,
     "metadata": {},
     "output_type": "execute_result"
    }
   ],
   "source": [
    "all(Ax==Bx) and all(Bx==Fx) #x check\n",
    "hist=pd.DataFrame(np.array([Ay,By,Fy]).transpose(),index=np.array(Ax),columns=[\"PolyA\",\"PolyB\",\"Filler\"])\n",
    "hist=hist[hist.any(axis=1)>0]\n",
    "hist=hist.assign(A= hist.PolyA/(hist.PolyA+hist.PolyB+hist.Filler))\n",
    "hist=hist.assign(B= hist.PolyB/(hist.PolyA+hist.PolyB+hist.Filler))\n",
    "hist=hist.assign(F= hist.Filler/(hist.PolyA+hist.PolyB+hist.Filler))\n",
    "binsize=Ax[1]-Ax[0]\n",
    "hist=hist.assign(Width = 4*hist.A*(1-hist.A)*binsize)\n",
    "sum(hist.Width)"
   ]
  },
  {
   "cell_type": "code",
   "execution_count": 91,
   "metadata": {
    "collapsed": false
   },
   "outputs": [
    {
     "data": {
      "image/png": "[encoded data removed]",
      "text/plain": [
       "<matplotlib.figure.Figure at 0x119652a10>"
      ]
     },
     "metadata": {},
     "output_type": "display_data"
    }
   ],
   "source": [
    "line1=plt.plot(hist.index,hist.A,label=\"Polymer A\")\n",
    "line2=plt.plot(hist.index,hist.B,label=\"Polymer B\")\n",
    "line3=plt.plot(hist.index,hist.F,label=\"Sphere Filler\")\n",
    "plt.xlabel(\"\")\n",
    "plt.ylim(-0.1,1.1)\n",
    "plt.xlim(10,27)\n",
    "plt.setp([line1,line2,line3],linewidth=2.0)\n",
    "plt.legend(loc=\"best\")\n",
    "plt.savefig(\"Histogram.png\",dpi=300)\n",
    "plt.show()"
   ]
  },
  {
   "cell_type": "code",
   "execution_count": 92,
   "metadata": {
    "collapsed": false
   },
   "outputs": [],
   "source": [
    "def player(file):\n",
    "#layered pressure file handler\n",
    "    '''\n",
    "    readin layered pressure data \n",
    "    '''\n",
    "    f = open(file)\n",
    "    heading=None\n",
    "    res=[]\n",
    "    count=0;\n",
    "    for line in f:\n",
    "        if line.startswith(\"#\"):\n",
    "            continue\n",
    "        wd=line.split()\n",
    "        if not heading: #heading not defined\n",
    "            heading=map(int,wd)\n",
    "        else:\n",
    "            count+=1\n",
    "            res.append([str(heading[0])]+wd)\n",
    "            if count%heading[1]==0:\n",
    "                count=0\n",
    "                heading=None\n",
    "    f.close()\n",
    "    return res"
   ]
  },
  {
   "cell_type": "code",
   "execution_count": 93,
   "metadata": {
    "collapsed": false
   },
   "outputs": [
    {
     "name": "stderr",
     "output_type": "stream",
     "text": [
      "/Users/dixu/anaconda/lib/python2.7/site-packages/ipykernel/__main__.py:3: FutureWarning: convert_objects is deprecated.  Use the data-type specific converters pd.to_datetime, pd.to_timedelta and pd.to_numeric.\n",
      "  app.launch_new_instance()\n"
     ]
    },
    {
     "data": {
      "text/html": [
       "<div>\n",
       "<table border=\"1\" class=\"dataframe\">\n",
       "  <thead>\n",
       "    <tr style=\"text-align: right;\">\n",
       "      <th></th>\n",
       "      <th>Step</th>\n",
       "      <th>Layer</th>\n",
       "      <th>Cord</th>\n",
       "      <th>N</th>\n",
       "      <th>Px</th>\n",
       "      <th>Py</th>\n",
       "      <th>Pz</th>\n",
       "    </tr>\n",
       "  </thead>\n",
       "  <tbody>\n",
       "    <tr>\n",
       "      <th>0</th>\n",
       "      <td>15000000</td>\n",
       "      <td>1</td>\n",
       "      <td>0.179337</td>\n",
       "      <td>1378.430</td>\n",
       "      <td>-5.127840</td>\n",
       "      <td>-1.550460</td>\n",
       "      <td>0.019558</td>\n",
       "    </tr>\n",
       "    <tr>\n",
       "      <th>1</th>\n",
       "      <td>15000000</td>\n",
       "      <td>2</td>\n",
       "      <td>2.179340</td>\n",
       "      <td>637.280</td>\n",
       "      <td>-0.188551</td>\n",
       "      <td>-0.156106</td>\n",
       "      <td>0.424573</td>\n",
       "    </tr>\n",
       "    <tr>\n",
       "      <th>2</th>\n",
       "      <td>15000000</td>\n",
       "      <td>3</td>\n",
       "      <td>4.179340</td>\n",
       "      <td>677.148</td>\n",
       "      <td>0.004950</td>\n",
       "      <td>0.000896</td>\n",
       "      <td>-0.006958</td>\n",
       "    </tr>\n",
       "    <tr>\n",
       "      <th>3</th>\n",
       "      <td>15000000</td>\n",
       "      <td>4</td>\n",
       "      <td>6.179340</td>\n",
       "      <td>688.307</td>\n",
       "      <td>0.020227</td>\n",
       "      <td>0.019892</td>\n",
       "      <td>0.011367</td>\n",
       "    </tr>\n",
       "    <tr>\n",
       "      <th>4</th>\n",
       "      <td>15000000</td>\n",
       "      <td>5</td>\n",
       "      <td>8.179340</td>\n",
       "      <td>688.630</td>\n",
       "      <td>0.014323</td>\n",
       "      <td>0.015475</td>\n",
       "      <td>0.020200</td>\n",
       "    </tr>\n",
       "  </tbody>\n",
       "</table>\n",
       "</div>"
      ],
      "text/plain": [
       "       Step  Layer      Cord         N        Px        Py        Pz\n",
       "0  15000000      1  0.179337  1378.430 -5.127840 -1.550460  0.019558\n",
       "1  15000000      2  2.179340   637.280 -0.188551 -0.156106  0.424573\n",
       "2  15000000      3  4.179340   677.148  0.004950  0.000896 -0.006958\n",
       "3  15000000      4  6.179340   688.307  0.020227  0.019892  0.011367\n",
       "4  15000000      5  8.179340   688.630  0.014323  0.015475  0.020200"
      ]
     },
     "execution_count": 93,
     "metadata": {},
     "output_type": "execute_result"
    }
   ],
   "source": [
    "pf2=folder+\"Player2.txt\"\n",
    "press=pd.DataFrame(player(pf2),columns=[\"Step\",\"Layer\",\"Cord\",\"N\",\"Px\",\"Py\",\"Pz\"])\n",
    "press=press.convert_objects(convert_numeric=True)\n",
    "binsize=press.iloc[1,2]-press.iloc[0,2]\n",
    "press.head(5)"
   ]
  },
  {
   "cell_type": "code",
   "execution_count": 94,
   "metadata": {
    "collapsed": false
   },
   "outputs": [
    {
     "data": {
      "text/plain": [
       "(-0.5, 1.0)"
      ]
     },
     "execution_count": 94,
     "metadata": {},
     "output_type": "execute_result"
    },
    {
     "data": {
      "image/png": "[encoded data removed]",
      "text/plain": [
       "<matplotlib.figure.Figure at 0x11a053b50>"
      ]
     },
     "metadata": {},
     "output_type": "display_data"
    }
   ],
   "source": [
    "press[\"LambdaK\"]=-press.N/AREA*(press.Pz-0.5*(press.Px+press.Py))  #2 is the bin size\n",
    "pressure=press[press.Step==15000000].loc[:,[\"Cord\",\"LambdaK\"]]\n",
    "\n",
    "pressure.plot(x=\"Cord\",style=\"o-\").set_ylim(-0.5,1.0)"
   ]
  },
  {
   "cell_type": "code",
   "execution_count": 95,
   "metadata": {
    "collapsed": false
   },
   "outputs": [
    {
     "name": "stdout",
     "output_type": "stream",
     "text": [
      "Unit-less interfacial tension approximate: <function sum at 0x109327b90>\n"
     ]
    }
   ],
   "source": [
    "tension=pressure[(pressure[\"Cord\"]>10) & (pressure[\"Cord\"]<26)]\n",
    "print \"Unit-less interfacial tension approximate: \"+str(sum)"
   ]
  },
  {
   "cell_type": "code",
   "execution_count": null,
   "metadata": {
    "collapsed": true
   },
   "outputs": [],
   "source": []
  }
 ],
 "metadata": {
  "kernelspec": {
   "display_name": "Python 2",
   "language": "python",
   "name": "python2"
  },
  "language_info": {
   "codemirror_mode": {
    "name": "ipython",
    "version": 2
   },
   "file_extension": ".py",
   "mimetype": "text/x-python",
   "name": "python",
   "nbconvert_exporter": "python",
   "pygments_lexer": "ipython2",
   "version": "2.7.11"
  }
 },
 "nbformat": 4,
 "nbformat_minor": 0
}
