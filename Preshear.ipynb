{
 "cells": [
  {
   "cell_type": "markdown",
   "metadata": {},
   "source": [
    "## Python scripts to handle interfacial shear simulation results"
   ]
  },
  {
   "cell_type": "code",
   "execution_count": 6,
   "metadata": {
    "collapsed": false
   },
   "outputs": [
    {
     "name": "stdout",
     "output_type": "stream",
     "text": [
      "Populating the interactive namespace from numpy and matplotlib\n"
     ]
    },
    {
     "data": {
      "text/plain": [
       "'\\nimport sys\\nsys.path.append(\"/Users/dixu/Desktop/interfacial_analysis\")\\nfrom interface import *\\n'"
      ]
     },
     "execution_count": 6,
     "metadata": {},
     "output_type": "execute_result"
    }
   ],
   "source": [
    "import numpy as np\n",
    "import pandas as pd\n",
    "import matplotlib.pyplot as plt\n",
    "import matplotlib\n",
    "matplotlib.style.use('ggplot')\n",
    "%pylab inline\n",
    "pylab.rcParams['figure.figsize'] = (10, 6)\n",
    "'''\n",
    "import sys\n",
    "sys.path.append(\"/Users/dixu/Desktop/interfacial_analysis\")\n",
    "from interface import *\n",
    "'''"
   ]
  },
  {
   "cell_type": "code",
   "execution_count": 7,
   "metadata": {
    "collapsed": true
   },
   "outputs": [],
   "source": [
    "#Global Constants\n",
    "AREA = (20.5-0.5)*(20.341234-0.288675)"
   ]
  },
  {
   "cell_type": "code",
   "execution_count": 8,
   "metadata": {
    "collapsed": true
   },
   "outputs": [],
   "source": [
    "#readin histogram data\n",
    "#assume only 1 dump \n",
    "def histo(file):\n",
    "    f = open(file)\n",
    "    heading=None\n",
    "    x,y=[],[]\n",
    "    for line in f:\n",
    "        if line.startswith(\"#\"):\n",
    "            continue\n",
    "        wd=line.split()\n",
    "        if not heading: #heading not defined\n",
    "            heading=wd\n",
    "        else:\n",
    "            x.append(wd[1])\n",
    "            y.append(wd[2])\n",
    "    f.close()\n",
    "    x = map(float,x)\n",
    "    y = map(float,y)\n",
    "    f.close()\n",
    "    return x,y,heading[2]"
   ]
  },
  {
   "cell_type": "code",
   "execution_count": 9,
   "metadata": {
    "collapsed": true
   },
   "outputs": [],
   "source": [
    "#file path setting\n",
    "folder=\"/Users/dixu/Desktop/Interfacial_Slip/TOP_BOTTOM/SimulationDesign1/Sheet/12/e05/\""
   ]
  },
  {
   "cell_type": "code",
   "execution_count": 10,
   "metadata": {
    "collapsed": false
   },
   "outputs": [],
   "source": [
    "histoA=folder+\"polyA.histo\"\n",
    "histoB=folder+\"polyB.histo\"\n",
    "histoF=folder+\"filler.histo\"\n",
    "Ax,Ay,Acount=histo(histoA)\n",
    "Bx,By,Bcount=histo(histoB)\n",
    "Fx,Fy,Fcount=histo(histoF)"
   ]
  },
  {
   "cell_type": "code",
   "execution_count": 11,
   "metadata": {
    "collapsed": false
   },
   "outputs": [
    {
     "data": {
      "text/plain": [
       "1.6986741480411265"
      ]
     },
     "execution_count": 11,
     "metadata": {},
     "output_type": "execute_result"
    }
   ],
   "source": [
    "all(Ax==Bx) and all(Bx==Fx) #x check\n",
    "hist=pd.DataFrame(np.array([Ay,By,Fy]).transpose(),index=np.array(Ax),columns=[\"PolyA\",\"PolyB\",\"Filler\"])\n",
    "hist=hist[hist.any(axis=1)>0]\n",
    "hist=hist.assign(A= hist.PolyA/(hist.PolyA+hist.PolyB+hist.Filler))\n",
    "hist=hist.assign(B= hist.PolyB/(hist.PolyA+hist.PolyB+hist.Filler))\n",
    "hist=hist.assign(F= hist.Filler/(hist.PolyA+hist.PolyB+hist.Filler))\n",
    "binsize=Ax[1]-Ax[0]\n",
    "hist=hist.assign(Width = 4*hist.A*(1-hist.A)*binsize)\n",
    "sum(hist.Width)"
   ]
  },
  {
   "cell_type": "code",
   "execution_count": 12,
   "metadata": {
    "collapsed": false
   },
   "outputs": [
    {
     "data": {
      "image/png": "[encoded data removed]",
      "text/plain": [
       "<matplotlib.figure.Figure at 0x115221a90>"
      ]
     },
     "metadata": {},
     "output_type": "display_data"
    }
   ],
   "source": [
    "line1=plt.plot(hist.index,hist.A,label=\"PolymerA\")\n",
    "line2=plt.plot(hist.index,hist.B,label=\"PolymerB\")\n",
    "line3=plt.plot(hist.index,hist.F,label=\"Filler\")\n",
    "plt.xlabel(\"\")\n",
    "plt.ylim(-0.1,1.1)\n",
    "plt.xlim(7,30)\n",
    "plt.setp([line1,line2,line3],linewidth=2.0)\n",
    "plt.legend(loc=\"best\")\n",
    "plt.savefig(\"Histogram.png\",dpi=300)\n",
    "plt.show()"
   ]
  },
  {
   "cell_type": "code",
   "execution_count": 13,
   "metadata": {
    "collapsed": false
   },
   "outputs": [],
   "source": [
    "def player(file):\n",
    "#layered pressure file handler\n",
    "    '''\n",
    "    readin layered pressure data \n",
    "    '''\n",
    "    f = open(file)\n",
    "    heading=None\n",
    "    res=[]\n",
    "    count=0;\n",
    "    for line in f:\n",
    "        if line.startswith(\"#\"):\n",
    "            continue\n",
    "        wd=line.split()\n",
    "        if not heading: #heading not defined\n",
    "            heading=map(int,wd)\n",
    "        else:\n",
    "            count+=1\n",
    "            res.append([str(heading[0])]+wd)\n",
    "            if count%heading[1]==0:\n",
    "                count=0\n",
    "                heading=None\n",
    "    f.close()\n",
    "    return res"
   ]
  },
  {
   "cell_type": "code",
   "execution_count": 14,
   "metadata": {
    "collapsed": false
   },
   "outputs": [
    {
     "name": "stderr",
     "output_type": "stream",
     "text": [
      "/Users/dixu/anaconda/lib/python2.7/site-packages/ipykernel/__main__.py:3: FutureWarning: convert_objects is deprecated.  Use the data-type specific converters pd.to_datetime, pd.to_timedelta and pd.to_numeric.\n",
      "  app.launch_new_instance()\n"
     ]
    },
    {
     "data": {
      "text/html": [
       "<div>\n",
       "<table border=\"1\" class=\"dataframe\">\n",
       "  <thead>\n",
       "    <tr style=\"text-align: right;\">\n",
       "      <th></th>\n",
       "      <th>Step</th>\n",
       "      <th>Layer</th>\n",
       "      <th>Cord</th>\n",
       "      <th>N</th>\n",
       "      <th>Px</th>\n",
       "      <th>Py</th>\n",
       "      <th>Pz</th>\n",
       "    </tr>\n",
       "  </thead>\n",
       "  <tbody>\n",
       "    <tr>\n",
       "      <th>0</th>\n",
       "      <td>15000000</td>\n",
       "      <td>1</td>\n",
       "      <td>0.179337</td>\n",
       "      <td>1379.300</td>\n",
       "      <td>-5.028780</td>\n",
       "      <td>-1.950820</td>\n",
       "      <td>0.013295</td>\n",
       "    </tr>\n",
       "    <tr>\n",
       "      <th>1</th>\n",
       "      <td>15000000</td>\n",
       "      <td>2</td>\n",
       "      <td>2.179340</td>\n",
       "      <td>661.900</td>\n",
       "      <td>-0.153830</td>\n",
       "      <td>0.101413</td>\n",
       "      <td>0.482081</td>\n",
       "    </tr>\n",
       "    <tr>\n",
       "      <th>2</th>\n",
       "      <td>15000000</td>\n",
       "      <td>3</td>\n",
       "      <td>4.179340</td>\n",
       "      <td>710.204</td>\n",
       "      <td>0.222872</td>\n",
       "      <td>0.054640</td>\n",
       "      <td>0.020424</td>\n",
       "    </tr>\n",
       "    <tr>\n",
       "      <th>3</th>\n",
       "      <td>15000000</td>\n",
       "      <td>4</td>\n",
       "      <td>6.179340</td>\n",
       "      <td>714.517</td>\n",
       "      <td>-0.140556</td>\n",
       "      <td>0.003259</td>\n",
       "      <td>-0.016614</td>\n",
       "    </tr>\n",
       "    <tr>\n",
       "      <th>4</th>\n",
       "      <td>15000000</td>\n",
       "      <td>5</td>\n",
       "      <td>8.179340</td>\n",
       "      <td>710.540</td>\n",
       "      <td>0.047086</td>\n",
       "      <td>0.046107</td>\n",
       "      <td>0.042078</td>\n",
       "    </tr>\n",
       "  </tbody>\n",
       "</table>\n",
       "</div>"
      ],
      "text/plain": [
       "       Step  Layer      Cord         N        Px        Py        Pz\n",
       "0  15000000      1  0.179337  1379.300 -5.028780 -1.950820  0.013295\n",
       "1  15000000      2  2.179340   661.900 -0.153830  0.101413  0.482081\n",
       "2  15000000      3  4.179340   710.204  0.222872  0.054640  0.020424\n",
       "3  15000000      4  6.179340   714.517 -0.140556  0.003259 -0.016614\n",
       "4  15000000      5  8.179340   710.540  0.047086  0.046107  0.042078"
      ]
     },
     "execution_count": 14,
     "metadata": {},
     "output_type": "execute_result"
    }
   ],
   "source": [
    "pf2=folder+\"Player2.txt\"\n",
    "press=pd.DataFrame(player(pf2),columns=[\"Step\",\"Layer\",\"Cord\",\"N\",\"Px\",\"Py\",\"Pz\"])\n",
    "press=press.convert_objects(convert_numeric=True)\n",
    "binsize=press.iloc[1,2]-press.iloc[0,2]\n",
    "press.head(5)"
   ]
  },
  {
   "cell_type": "code",
   "execution_count": 15,
   "metadata": {
    "collapsed": false
   },
   "outputs": [
    {
     "data": {
      "text/plain": [
       "(-0.5, 1.0)"
      ]
     },
     "execution_count": 15,
     "metadata": {},
     "output_type": "execute_result"
    },
    {
     "data": {
      "image/png": "[encoded data removed]",
      "text/plain": [
       "<matplotlib.figure.Figure at 0x1150358d0>"
      ]
     },
     "metadata": {},
     "output_type": "display_data"
    }
   ],
   "source": [
    "press[\"LambdaK\"]=-press.N/AREA*(press.Pz-0.5*(press.Px+press.Py))  #2 is the bin size\n",
    "pressure=press[press.Step==15000000].loc[:,[\"Cord\",\"LambdaK\"]]\n",
    "\n",
    "pressure.plot(x=\"Cord\",style=\"o-\").set_ylim(-0.5,1.0)"
   ]
  },
  {
   "cell_type": "code",
   "execution_count": 16,
   "metadata": {
    "collapsed": false
   },
   "outputs": [
    {
     "name": "stdout",
     "output_type": "stream",
     "text": [
      "Unit-less interfacial tension approximate: <function sum at 0x109322b90>\n"
     ]
    }
   ],
   "source": [
    "tension=pressure[(pressure[\"Cord\"]>10) & (pressure[\"Cord\"]<26)]\n",
    "print \"Unit-less interfacial tension approximate: \"+str(sum)"
   ]
  },
  {
   "cell_type": "code",
   "execution_count": null,
   "metadata": {
    "collapsed": true
   },
   "outputs": [],
   "source": []
  }
 ],
 "metadata": {
  "kernelspec": {
   "display_name": "Python 2",
   "language": "python",
   "name": "python2"
  },
  "language_info": {
   "codemirror_mode": {
    "name": "ipython",
    "version": 2
   },
   "file_extension": ".py",
   "mimetype": "text/x-python",
   "name": "python",
   "nbconvert_exporter": "python",
   "pygments_lexer": "ipython2",
   "version": "2.7.11"
  }
 },
 "nbformat": 4,
 "nbformat_minor": 0
}
