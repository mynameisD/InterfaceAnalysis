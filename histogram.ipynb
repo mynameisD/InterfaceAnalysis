{
 "cells": [
  {
   "cell_type": "markdown",
   "metadata": {},
   "source": [
    "## Python scripts to handle interfacial shear simulation results"
   ]
  },
  {
   "cell_type": "code",
   "execution_count": 1,
   "metadata": {
    "collapsed": false
   },
   "outputs": [
    {
     "name": "stdout",
     "output_type": "stream",
     "text": [
      "Populating the interactive namespace from numpy and matplotlib\n"
     ]
    },
    {
     "name": "stderr",
     "output_type": "stream",
     "text": [
      "/Users/dixu/anaconda/lib/python2.7/site-packages/matplotlib/font_manager.py:273: UserWarning: Matplotlib is building the font cache using fc-list. This may take a moment.\n",
      "  warnings.warn('Matplotlib is building the font cache using fc-list. This may take a moment.')\n"
     ]
    }
   ],
   "source": [
    "import numpy as np\n",
    "import pandas as pd\n",
    "import matplotlib.pyplot as plt\n",
    "import matplotlib\n",
    "plt.style.use('classic')\n",
    "%pylab inline\n",
    "pylab.rcParams['figure.figsize'] = (10, 6)"
   ]
  },
  {
   "cell_type": "code",
   "execution_count": 2,
   "metadata": {
    "collapsed": true
   },
   "outputs": [],
   "source": [
    "#Global Constants\n",
    "AREA = (20.5-0.5)*(20.341234-0.288675)"
   ]
  },
  {
   "cell_type": "code",
   "execution_count": 3,
   "metadata": {
    "collapsed": true
   },
   "outputs": [],
   "source": [
    "#readin histogram data\n",
    "#assume only 1 dump \n",
    "def histo(file):\n",
    "    f = open(file)\n",
    "    heading=None\n",
    "    x,y=[],[]\n",
    "    for line in f:\n",
    "        if line.startswith(\"#\"):\n",
    "            continue\n",
    "        wd=line.split()\n",
    "        if not heading: #heading not defined\n",
    "            heading=wd\n",
    "        else:\n",
    "            x.append(wd[1])\n",
    "            y.append(wd[2])\n",
    "    f.close()\n",
    "    x = map(float,x)\n",
    "    y = map(float,y)\n",
    "    f.close()\n",
    "    return x,y,heading[2]"
   ]
  },
  {
   "cell_type": "code",
   "execution_count": 4,
   "metadata": {
    "collapsed": true
   },
   "outputs": [],
   "source": [
    "#file path setting\n",
    "folder=\"/Users/dixu/Desktop/Interfacial_Slip/TOP_BOTTOM/SimulationDesign1/Diblock/12/e05/\""
   ]
  },
  {
   "cell_type": "code",
   "execution_count": 5,
   "metadata": {
    "collapsed": false
   },
   "outputs": [],
   "source": [
    "histoA=folder+\"polyA.histo\"\n",
    "histoB=folder+\"polyB.histo\"\n",
    "histoF=folder+\"filler.histo\"\n",
    "Ax,Ay,Acount=histo(histoA)\n",
    "Bx,By,Bcount=histo(histoB)\n",
    "Fx,Fy,Fcount=histo(histoF)"
   ]
  },
  {
   "cell_type": "code",
   "execution_count": 6,
   "metadata": {
    "collapsed": false
   },
   "outputs": [
    {
     "data": {
      "text/plain": [
       "5.040568683936591"
      ]
     },
     "execution_count": 6,
     "metadata": {},
     "output_type": "execute_result"
    }
   ],
   "source": [
    "all(Ax==Bx) and all(Bx==Fx) #x check\n",
    "hist=pd.DataFrame(np.array([Ay,By,Fy]).transpose(),index=np.array(Ax),columns=[\"PolyA\",\"PolyB\",\"Filler\"])\n",
    "hist=hist[hist.any(axis=1)>0]\n",
    "hist=hist.assign(A= hist.PolyA/(hist.PolyA+hist.PolyB+hist.Filler))\n",
    "hist=hist.assign(B= hist.PolyB/(hist.PolyA+hist.PolyB+hist.Filler))\n",
    "hist=hist.assign(F= hist.Filler/(hist.PolyA+hist.PolyB+hist.Filler))\n",
    "binsize=Ax[1]-Ax[0]\n",
    "hist=hist.assign(Width = 4*hist.A*(1-hist.A)*binsize)\n",
    "sum(hist.Width)"
   ]
  },
  {
   "cell_type": "code",
   "execution_count": 7,
   "metadata": {
    "collapsed": false
   },
   "outputs": [
    {
     "data": {
      "image/png": "[encoded data removed]",
      "text/plain": [
       "<matplotlib.figure.Figure at 0x104933750>"
      ]
     },
     "metadata": {},
     "output_type": "display_data"
    }
   ],
   "source": [
    "line1=plt.plot(hist.index,hist.A,label=\"Polymer A\")\n",
    "line2=plt.plot(hist.index,hist.B,label=\"Polymer B\")\n",
    "line3=plt.plot(hist.index,hist.F,label=\"Diblock Filler\")\n",
    "plt.xlabel(\"Z Cordinate\")\n",
    "plt.ylabel(\"Number Ratio\")\n",
    "plt.ylim(-0.1,1.1)\n",
    "plt.xlim(10,27)\n",
    "plt.setp([line1,line2,line3],linewidth=2.0)\n",
    "plt.legend(loc=\"best\")\n",
    "plt.savefig(\"Histogram.png\",dpi=300)\n",
    "plt.show()"
   ]
  },
  {
   "cell_type": "code",
   "execution_count": null,
   "metadata": {
    "collapsed": false
   },
   "outputs": [],
   "source": []
  },
  {
   "cell_type": "code",
   "execution_count": null,
   "metadata": {
    "collapsed": false
   },
   "outputs": [],
   "source": []
  },
  {
   "cell_type": "code",
   "execution_count": null,
   "metadata": {
    "collapsed": false
   },
   "outputs": [],
   "source": []
  },
  {
   "cell_type": "code",
   "execution_count": null,
   "metadata": {
    "collapsed": false
   },
   "outputs": [],
   "source": []
  },
  {
   "cell_type": "code",
   "execution_count": null,
   "metadata": {
    "collapsed": true
   },
   "outputs": [],
   "source": []
  }
 ],
 "metadata": {
  "kernelspec": {
   "display_name": "Python 2",
   "language": "python",
   "name": "python2"
  },
  "language_info": {
   "codemirror_mode": {
    "name": "ipython",
    "version": 2
   },
   "file_extension": ".py",
   "mimetype": "text/x-python",
   "name": "python",
   "nbconvert_exporter": "python",
   "pygments_lexer": "ipython2",
   "version": "2.7.11"
  }
 },
 "nbformat": 4,
 "nbformat_minor": 0
}
